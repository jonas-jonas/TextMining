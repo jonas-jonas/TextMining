{
 "cells": [
  {
   "cell_type": "code",
   "execution_count": 3,
   "metadata": {},
   "outputs": [],
   "source": [
    "import praw\n",
    "from services.database import get_session\n",
    "\n",
    "reddit = praw.Reddit('textmining') # Siehe praw.ini im Hauptverzeichnis"
   ]
  },
  {
   "cell_type": "code",
   "execution_count": 17,
   "metadata": {
    "scrolled": true
   },
   "outputs": [],
   "source": [
    "from datetime import datetime\n",
    "\n",
    "# Mach das zu 1 == 1 um neue Posts und Comments zu scrapen\n",
    "if 0 == 1:\n",
    "    subreddit = reddit.subreddit('news+politics')\n",
    "\n",
    "    for submission in subreddit.hot(limit=100):\n",
    "\n",
    "        submission.selftext = submission.selftext if submission.selftext else \"null\"\n",
    "        insert_post_query = f\"\"\"\n",
    "            INSERT INTO post (id, subreddit, selftext, url, title, created_utc)\n",
    "            VALUES (\n",
    "                '{submission.id}',\n",
    "                '{submission.subreddit.display_name}',\n",
    "                $${submission.selftext}$$,\n",
    "                $${submission.url}$$,\n",
    "                $${submission.title}$$,\n",
    "                '{datetime.fromtimestamp(submission.created_utc)}'\n",
    "            );\n",
    "        \"\"\"\n",
    "        try:\n",
    "            with get_session() as session:\n",
    "                session.query(insert_post_query)\n",
    "                print(f\"Inserted post '{submission.title}'\")\n",
    "        except Exception as error:\n",
    "            print(f\"Ignoring post {submission.id} because of {error}\")\n",
    "            continue\n",
    "\n",
    "        comments = submission.comments\n",
    "\n",
    "        # Remove praw.MoreComments instances\n",
    "        comments.replace_more(limit=0)\n",
    "        for comment in comments.list():\n",
    "             # Parent id should be \"null\" if the parent of a comment is a post (e.g. toplevel comment)\n",
    "            parent_id = \"null\" if comment.parent_id.startswith(\"t3_\") else f\"'{comment.parent().id}'\"\n",
    "            # Escape any $ with a \\\n",
    "            comment_body = comment.body.replace('$', r'\\$')\n",
    "\n",
    "            insert_comment_query = f'''\n",
    "                INSERT INTO comment (id, body, post_id, subreddit, parent_id, created_utc)\n",
    "                VALUES (\n",
    "                    '{comment.id}', \n",
    "                    $${comment_body}$$,\n",
    "                    '{comment.submission.id}',\n",
    "                    '{comment.submission.subreddit.display_name}',\n",
    "                    {parent_id},\n",
    "                    '{datetime.fromtimestamp(comment.created_utc)}'\n",
    "                );\n",
    "            '''\n",
    "            try:\n",
    "                with get_session() as session:\n",
    "                    session.query(insert_comment_query)\n",
    "            except queries.IntegrityError as error:\n",
    "                print(f'Ignoring comment {comment.id} because of: {error}')\n",
    "                continue\n",
    "\n",
    "    print(f\"Finished inserting.\")"
   ]
  },
  {
   "cell_type": "markdown",
   "metadata": {},
   "source": [
    "# Ausgabe der Anzahl Posts und Comments in der Datenbank"
   ]
  },
  {
   "cell_type": "code",
   "execution_count": 20,
   "metadata": {},
   "outputs": [
    {
     "name": "stdout",
     "output_type": "stream",
     "text": [
      "[{'posts': 836}, {'posts': 135302}]\n"
     ]
    }
   ],
   "source": [
    "with get_session() as session:\n",
    "    results = session.query(\"SELECT COUNT(*) as posts FROM post UNION SELECT COUNT(*) as comments FROM comment\")\n",
    "    print(results.items())"
   ]
  }
 ],
 "metadata": {
  "kernelspec": {
   "display_name": "Python 3",
   "language": "python",
   "name": "python3"
  },
  "language_info": {
   "codemirror_mode": {
    "name": "ipython",
    "version": 3
   },
   "file_extension": ".py",
   "mimetype": "text/x-python",
   "name": "python",
   "nbconvert_exporter": "python",
   "pygments_lexer": "ipython3",
   "version": "3.7.3"
  }
 },
 "nbformat": 4,
 "nbformat_minor": 2
}
