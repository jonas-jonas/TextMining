{
 "cells": [
  {
   "cell_type": "code",
   "execution_count": 31,
   "metadata": {},
   "outputs": [],
   "source": [
    "import senta\n",
    "analyzer = senta.load()"
   ]
  },
  {
   "cell_type": "code",
   "execution_count": 28,
   "metadata": {},
   "outputs": [],
   "source": [
    "import pandas as pd\n",
    "import random\n",
    "import time\n",
    "\n",
    "labelled = []\n",
    "with open('data/yelp_labelled.txt') as f:\n",
    "    for line in f.readlines():\n",
    "        parts = line.split('\\t')\n",
    "        labelled.append({\n",
    "            'sentence': parts[0],\n",
    "            'original_sentiment': int(parts[1].replace('\\n', ''))\n",
    "        })\n",
    "        \n",
    "with open('data/amazon_cells_labelled.txt') as f:\n",
    "    for line in f.readlines():\n",
    "        parts = line.split('\\t')\n",
    "        labelled.append({\n",
    "            'sentence': parts[0],\n",
    "            'original_sentiment': int(parts[1].replace('\\n', ''))\n",
    "        })\n",
    "        \n",
    "with open('data/imdb_labelled.txt') as f:\n",
    "    for line in f.readlines():\n",
    "        parts = line.split('\\t')\n",
    "        labelled.append({\n",
    "            'sentence': parts[0],\n",
    "            'original_sentiment': int(parts[1].replace('\\n', ''))\n",
    "        })\n",
    "\n",
    "eval_df = pd.DataFrame(columns=['self', 'text_blob'], index=['precision', 'recall', 'accuracy', 'f1'])\n"
   ]
  },
  {
   "cell_type": "code",
   "execution_count": 33,
   "metadata": {},
   "outputs": [
    {
     "name": "stdout",
     "output_type": "stream",
     "text": [
      "100%\n",
      "elapsed: 3172.0695326328278\n"
     ]
    }
   ],
   "source": [
    "from IPython.display import clear_output\n",
    "\n",
    "counter = 0\n",
    "limit = 10\n",
    "extracted = []\n",
    "#random.shuffle(labelled)\n",
    "start = time.time()\n",
    "for entry in labelled[:limit]:\n",
    "    counter+=1\n",
    "    sentence = entry['sentence']\n",
    "    result = analyzer.analyze(sentence)\n",
    "    progress = int((counter/limit)*100)\n",
    "    if progress % 10 == 0:\n",
    "        clear_output()\n",
    "        print(f\"{progress}%\")\n",
    "    entry['computed_sentiment'] = result\n",
    "\n",
    "time_senta = time.time() - start\n",
    "print(f\"elapsed: {time_senta}\")\n"
   ]
  },
  {
   "cell_type": "code",
   "execution_count": 98,
   "metadata": {},
   "outputs": [
    {
     "name": "stdout",
     "output_type": "stream",
     "text": [
      "0.6907059421025902\n"
     ]
    }
   ],
   "source": [
    "# Evaluation\n",
    "\n",
    "tn = 0\n",
    "tp = 0\n",
    "fn = 0\n",
    "fp = 0\n",
    "\n",
    "for entry in labelled:\n",
    "    if 'computed_sentiment' in entry:\n",
    "        original = entry['original_sentiment'] # 1 = Pos; 0 = Neg\n",
    "        computed = entry['computed_sentiment']\n",
    "        if original == 0:\n",
    "            if computed == 0:\n",
    "                tn+=1\n",
    "            elif computed == 1:\n",
    "                fp+=1\n",
    "        elif original == 1:\n",
    "            if computed == 0:\n",
    "                fn+=1\n",
    "            elif computed == 1:\n",
    "                tp+=1\n",
    "\n",
    "precision = (tp/(tp+fp))\n",
    "recall = (tp/(tp+fn))\n",
    "accuracy = (tp+tn)/(tp+tn+fp+fn)\n",
    "f1 = 2 * (precision * recall)/(precision + recall)\n",
    "\n",
    "eval_df = pd.DataFrame(columns=['self', 'text_blob'], index=['precision', 'recall', 'accuracy', 'f1'])\n",
    "\n",
    "print(precision)\n",
    "\n",
    "eval_df.at['precision', 'self'] = precision\n",
    "eval_df.at['recall', 'self'] = recall\n",
    "eval_df.at['accuracy', 'self'] = accuracy\n",
    "eval_df.at['f1', 'self'] = f1\n"
   ]
  },
  {
   "cell_type": "code",
   "execution_count": 100,
   "metadata": {},
   "outputs": [
    {
     "name": "stdout",
     "output_type": "stream",
     "text": [
      "elapsed: 0.4325084686279297\n"
     ]
    }
   ],
   "source": [
    "# TextBlob eval\n",
    "from textblob import TextBlob\n",
    "\n",
    "tn_tb = 0\n",
    "tp_tb = 0\n",
    "fn_tb = 0\n",
    "fp_tb = 0\n",
    "\n",
    "start = time.time()\n",
    "for entry in labelled:\n",
    "    if 'original_sentiment' in entry:\n",
    "        blob = TextBlob(entry['sentence'])\n",
    "        original = entry['original_sentiment'] # 1 = Pos; 0 = Neg\n",
    "        computed = 0 if blob.sentiment.polarity < 0 else 1\n",
    "        if original == 0:\n",
    "            if computed == 0:\n",
    "                tn_tb+=1\n",
    "            elif computed == 1:\n",
    "                fp_tb+=1\n",
    "        elif original == 1:\n",
    "            if computed == 0:\n",
    "                fn_tb+=1\n",
    "            elif computed == 1:\n",
    "                tp_tb+=1\n",
    "time_tb = time.time() - start\n",
    "print(f\"elapsed: {time_tb}\")\n",
    "                \n",
    "precision_tb = (tp_tb/(tp_tb+fp_tb))\n",
    "recall_tb = (tp_tb/(tp_tb+fn_tb))\n",
    "accuracy_tb = (tp_tb+tn_tb)/(tp_tb+tn_tb+fp_tb+fn_tb)\n",
    "f1_tb = 2 * (precision_tb * recall_tb)/(precision_tb + recall_tb)\n",
    "                \n",
    "eval_df.at['precision', 'text_blob'] = precision_tb\n",
    "eval_df.at['recall', 'text_blob'] = recall_tb\n",
    "eval_df.at['accuracy', 'text_blob'] = accuracy_tb\n",
    "eval_df.at['f1', 'text_blob'] = f1_tb"
   ]
  },
  {
   "cell_type": "code",
   "execution_count": 106,
   "metadata": {},
   "outputs": [],
   "source": [
    "from bokeh.models import ColumnDataSource, NumeralTickFormatter, LabelSet, FactorRange\n",
    "from bokeh.io import export_png\n",
    "from bokeh.plotting import figure, show, output_notebook\n",
    "import math\n",
    "\n",
    "# score_type | self | text_blob\n",
    "# precision  | ...  | ...\n",
    "# recall     | ...  | ...\n",
    "# accuracy   | ...  | ...\n",
    "# f1         | ...  | ...\n",
    "# ...\n",
    "\n",
    "scores = ['precision', 'recall', 'accuracy', 'f1']\n",
    "evals = ['SentA', 'TextBlob'] # ...\n",
    "\n",
    "x = [(score, result) for score in scores for result in evals]\n",
    "counts = sum([(x, y) for x, y in eval_df.values], ())\n",
    "counts_percentage = sum([(\"%.2f\" % x, \"%.2f\" % y) for x, y in eval_df.values], ())\n",
    "color = ('#f78911', '#18b0ea', '#f78911', '#18b0ea', '#f78911', '#18b0ea', '#f78911', '#18b0ea')\n",
    "\n",
    "source = ColumnDataSource(data=dict(x=x, counts=counts, percentage=counts_percentage, color=color))\n",
    "\n",
    "plot_eval = figure(width=1500, height=800, x_range=FactorRange(*x))\n",
    "\n",
    "plot_eval.vbar(x='x', top='counts', source=source, width=.8, color=\"color\")\n",
    "\n",
    "plot_eval.yaxis.major_label_text_font_size=\"20pt\"\n",
    "plot_eval.xaxis.major_label_text_font_size=\"20pt\"\n",
    "\n",
    "labels = LabelSet(x='x', y='counts', text='percentage', level='glyph',\n",
    "        x_offset=0, y_offset=0, source=source, render_mode='canvas',\n",
    "                 text_font_size=\"20pt\", text_align=\"center\")\n",
    "\n",
    "plot_eval.add_layout(labels)\n",
    "plot_eval.xgrid.grid_line_color = None\n",
    "plot_eval.ygrid.grid_line_color = None\n",
    "\n",
    "show(plot_eval)\n",
    "#export_png(plot_eval, 'presentation/src/eval_results.png')"
   ]
  },
  {
   "cell_type": "code",
   "execution_count": 107,
   "metadata": {},
   "outputs": [],
   "source": [
    "from bokeh.plotting import figure, show, output_notebook\n",
    "from bokeh.models import DatetimeTickFormatter\n",
    "import datetime\n",
    "\n",
    "source_time = ColumnDataSource(\n",
    "    data=dict(\n",
    "        time=[time_senta, time_tb], \n",
    "        t=['Senta', 'TextBlob'], \n",
    "        formatted=[str(datetime.timedelta(seconds=time_senta)), str(datetime.timedelta(seconds=time_tb))],\n",
    "        color=['#f78911', '#18b0ea']\n",
    "    ))\n",
    "\n",
    "plot_time = figure(width=1500, height=800, x_range=['Senta', 'TextBlob'])\n",
    "plot_time.vbar(top='time', x='t', width=0.8, source=source_time, color=\"color\")\n",
    "\n",
    "plot_time.yaxis.axis_label = \"Seconds\"\n",
    "\n",
    "labels_time = LabelSet(x='t', y='time', text='formatted',\n",
    "        x_offset=0, y_offset=0, source=source_time,\n",
    "                 text_font_size=\"20pt\", text_align=\"center\")\n",
    "\n",
    "plot_time.yaxis.major_label_text_font_size=\"20pt\"\n",
    "plot_time.xaxis.major_label_text_font_size=\"20pt\"\n",
    "\n",
    "plot_time.xgrid.grid_line_color = None\n",
    "plot_time.ygrid.grid_line_color = None\n",
    "plot_time.add_layout(labels_time)\n",
    "show(plot_time)"
   ]
  }
 ],
 "metadata": {
  "kernelspec": {
   "display_name": "Python 3",
   "language": "python",
   "name": "python3"
  },
  "language_info": {
   "codemirror_mode": {
    "name": "ipython",
    "version": 3
   },
   "file_extension": ".py",
   "mimetype": "text/x-python",
   "name": "python",
   "nbconvert_exporter": "python",
   "pygments_lexer": "ipython3",
   "version": "3.7.3"
  }
 },
 "nbformat": 4,
 "nbformat_minor": 2
}
